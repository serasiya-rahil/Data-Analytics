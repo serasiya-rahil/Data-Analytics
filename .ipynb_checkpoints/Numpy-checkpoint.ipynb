{
 "cells": [
  {
   "cell_type": "markdown",
   "id": "e1cd6b08",
   "metadata": {},
   "source": [
    "### Learning Numpy Library"
   ]
  },
  {
   "cell_type": "markdown",
   "id": "ee0304f3",
   "metadata": {},
   "source": [
    "#### Numpy Stands for Numerical Python\n"
   ]
  },
  {
   "cell_type": "markdown",
   "id": "9ae74610",
   "metadata": {},
   "source": [
    "##### Numpy is 50 times more faster than python traditional lists as Numpy is stored continuously unlike lists, so that program can access and manipulate it very efficiently"
   ]
  },
  {
   "cell_type": "code",
   "execution_count": 2,
   "id": "91691fc3",
   "metadata": {},
   "outputs": [],
   "source": [
    "import numpy as np"
   ]
  },
  {
   "cell_type": "code",
   "execution_count": 15,
   "id": "b6827848",
   "metadata": {},
   "outputs": [
    {
     "name": "stdout",
     "output_type": "stream",
     "text": [
      "Version of Numpy = 1.24.3\n"
     ]
    }
   ],
   "source": [
    "#printing the version of numpy library used in this notebook\n",
    "print(f\"Version of Numpy = {np.__version__}\")"
   ]
  },
  {
   "cell_type": "code",
   "execution_count": 16,
   "id": "bef83926",
   "metadata": {},
   "outputs": [],
   "source": [
    "#converting an array\n",
    "numpy_array = np.array([1,2,3,4,5])"
   ]
  },
  {
   "cell_type": "code",
   "execution_count": 18,
   "id": "bc605355",
   "metadata": {},
   "outputs": [
    {
     "name": "stdout",
     "output_type": "stream",
     "text": [
      "Arry consit of [1 2 3 4 5]\n"
     ]
    }
   ],
   "source": [
    "#printing the array\n",
    "print(f\"Array consist of {numpy_array}\")\n"
   ]
  },
  {
   "cell_type": "code",
   "execution_count": 3,
   "id": "19d78e25",
   "metadata": {},
   "outputs": [
    {
     "name": "stdout",
     "output_type": "stream",
     "text": [
      "2D Array consist of [[1 2 3 4 5]\n",
      " [6 7 8 9 0]]\n"
     ]
    }
   ],
   "source": [
    "#2D array in Numpy\n",
    "array_2d = np.array([[1,2,3,4,5],[6,7,8,9,0]])\n",
    "print(f\"2D Array consist of {array_2d}\")"
   ]
  },
  {
   "cell_type": "code",
   "execution_count": null,
   "id": "99c57f3a-ad9f-42bc-8c3a-5c5bd79d6bc9",
   "metadata": {},
   "outputs": [],
   "source": []
  }
 ],
 "metadata": {
  "kernelspec": {
   "display_name": "Python 3 (ipykernel)",
   "language": "python",
   "name": "python3"
  },
  "language_info": {
   "codemirror_mode": {
    "name": "ipython",
    "version": 3
   },
   "file_extension": ".py",
   "mimetype": "text/x-python",
   "name": "python",
   "nbconvert_exporter": "python",
   "pygments_lexer": "ipython3",
   "version": "3.10.11"
  }
 },
 "nbformat": 4,
 "nbformat_minor": 5
}
