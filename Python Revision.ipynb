{
 "cells": [
  {
   "cell_type": "code",
   "execution_count": 8,
   "id": "edabd66a-7742-4da9-8f71-e9aeeb35a38b",
   "metadata": {},
   "outputs": [
    {
     "name": "stdout",
     "output_type": "stream",
     "text": [
      "DataType of Variable 100 is <class 'int'>\n",
      "DataType of Variable Rahil is <class 'str'>\n",
      "DataType of Variable True is <class 'bool'>\n",
      "DataType of Variable 10.0 is <class 'float'>\n",
      "DataType of Variable [1, 2, 3] is <class 'list'>\n",
      "DataType of Variable (1, 2, 3) is <class 'tuple'>\n"
     ]
    }
   ],
   "source": [
    "#Funtion to print the dataType of a variable\n",
    "def printDataType(var):\n",
    "    \"\"\"\n",
    "    Prints the data type of the given variable.\n",
    "\n",
    "    Parameters:\n",
    "    var (any): The variable whose data type you want to display.\n",
    "\n",
    "    Returns:\n",
    "    None\n",
    "    \"\"\"\n",
    "    print(f\"DataType of Variable {var} is {type(var)}\")\n",
    "\n",
    "printDataType(100)\n",
    "printDataType(\"Rahil\")\n",
    "printDataType(True)\n",
    "printDataType(10.00)\n",
    "printDataType([1,2,3])\n",
    "printDataType((1,2,3))"
   ]
  },
  {
   "cell_type": "code",
   "execution_count": null,
   "id": "3854bc0c-2172-4985-bd35-8d72a9819a4b",
   "metadata": {},
   "outputs": [],
   "source": []
  }
 ],
 "metadata": {
  "kernelspec": {
   "display_name": "Python 3 (ipykernel)",
   "language": "python",
   "name": "python3"
  },
  "language_info": {
   "codemirror_mode": {
    "name": "ipython",
    "version": 3
   },
   "file_extension": ".py",
   "mimetype": "text/x-python",
   "name": "python",
   "nbconvert_exporter": "python",
   "pygments_lexer": "ipython3",
   "version": "3.10.11"
  }
 },
 "nbformat": 4,
 "nbformat_minor": 5
}
