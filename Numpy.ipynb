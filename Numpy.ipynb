{
 "cells": [
  {
   "cell_type": "code",
   "execution_count": 1,
   "id": "f71a3dd5",
   "metadata": {},
   "outputs": [],
   "source": [
    "#Numpy Stands for Numerical Python\n",
    "#Numpy is 50 times more faster than python traditional lists as Numpy is stored continuously unlike lists, so that program can access and manipulate it very efficiently"
   ]
  },
  {
   "cell_type": "code",
   "execution_count": null,
   "id": "91691fc3",
   "metadata": {},
   "outputs": [],
   "source": []
  }
 ],
 "metadata": {
  "kernelspec": {
   "display_name": "Python 3 (ipykernel)",
   "language": "python",
   "name": "python3"
  },
  "language_info": {
   "codemirror_mode": {
    "name": "ipython",
    "version": 3
   },
   "file_extension": ".py",
   "mimetype": "text/x-python",
   "name": "python",
   "nbconvert_exporter": "python",
   "pygments_lexer": "ipython3",
   "version": "3.11.3"
  }
 },
 "nbformat": 4,
 "nbformat_minor": 5
}
